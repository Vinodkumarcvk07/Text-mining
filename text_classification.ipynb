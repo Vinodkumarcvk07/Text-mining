{
 "cells": [
  {
   "cell_type": "code",
   "execution_count": 2,
   "metadata": {
    "collapsed": true
   },
   "outputs": [],
   "source": [
    "import csv\n",
    "import numpy as np\n",
    "import pandas as pd\n",
    "import scipy\n",
    "import matplotlib.pyplot as plt\n",
    "\n"
   ]
  },
  {
   "cell_type": "code",
   "execution_count": 45,
   "metadata": {},
   "outputs": [],
   "source": [
    "df = pd.read_csv(\"C:/Users/Amy Le - PC/Documents/Consumer_Complaints.csv\", low_memory = False)\n",
    "###The dataset is collected from the consumer complaints database \"\n",
    "\n",
    "df = df[:10000]\n"
   ]
  },
  {
   "cell_type": "markdown",
   "metadata": {},
   "source": [
    "Input: Complaints from customers in text \"Consumer complaint narrative\"\n",
    "Output: Product. Ex: Credit card"
   ]
  },
  {
   "cell_type": "markdown",
   "metadata": {},
   "source": [
    "Preprocessing\n",
    "\n"
   ]
  },
  {
   "cell_type": "code",
   "execution_count": 46,
   "metadata": {},
   "outputs": [
    {
     "name": "stdout",
     "output_type": "stream",
     "text": [
      "(2102, 3)\n",
      "             Product                       Consumer_complaint_narrative  \\\n",
      "1   Credit reporting  I have outdated information on my credit repor...   \n",
      "2      Consumer Loan  I purchased a new car on XXXX XXXX. The car de...   \n",
      "7   Credit reporting  An account on my credit report has a mistaken ...   \n",
      "12   Debt collection  This company refuses to provide me verificatio...   \n",
      "16   Debt collection  This complaint is in regards to Square Two Fin...   \n",
      "25          Mortgage  Started the refinance of home mortgage process...   \n",
      "26          Mortgage  In XXXX, I and my ex-husband applied for a ref...   \n",
      "28  Credit reporting  I have disputed several accounts on my credit ...   \n",
      "29          Mortgage  Mortgage was transferred to Nationstar as of X...   \n",
      "36       Credit card  Was a happy XXXX card member for years, in lat...   \n",
      "\n",
      "    Product_id  \n",
      "1            0  \n",
      "2            1  \n",
      "7            0  \n",
      "12           2  \n",
      "16           2  \n",
      "25           3  \n",
      "26           3  \n",
      "28           0  \n",
      "29           3  \n",
      "36           4  \n"
     ]
    }
   ],
   "source": [
    "col = ['Product', 'Consumer complaint narrative']\n",
    "df = df[col]\n",
    "\n",
    "###Removing missing values in 'consumer complaint narrative' column\n",
    "df=df[pd.notnull(df['Consumer complaint narrative'])]\n",
    "df.columns = ['Product', 'Consumer_complaint_narrative']\n",
    "\n",
    "### Encode the 'product' column as an integer and add the encoded column\n",
    "df['Product_id'] = df['Product'].factorize()[0]\n",
    "\n",
    "print(df.shape)\n",
    "top = df.head(10)\n",
    "print(top)\n"
   ]
  },
  {
   "cell_type": "code",
   "execution_count": 47,
   "metadata": {},
   "outputs": [
    {
     "name": "stdout",
     "output_type": "stream",
     "text": [
      "Product\n",
      "Debt collection            518\n",
      "Mortgage                   409\n",
      "Credit reporting           398\n",
      "Credit card                271\n",
      "Bank account or service    186\n",
      "Student loan               142\n",
      "Consumer Loan              108\n",
      "Payday loan                 26\n",
      "Money transfers             22\n",
      "Prepaid card                18\n",
      "Other financial service      4\n",
      "dtype: int64\n"
     ]
    }
   ],
   "source": [
    "###Class distribuition\n",
    "class_counts = df.groupby('Product').size()\n",
    "class_counts = class_counts.sort_values(axis=0, ascending=False, kind='quicksort', na_position='last')\n",
    "print(class_counts)\n"
   ]
  },
  {
   "cell_type": "markdown",
   "metadata": {},
   "source": [
    "#There are 17 classes in 'Product' column\n",
    "Product\n",
    "Debt collection                                                                 58305\n",
    "Mortgage                                                                        41764\n",
    "Credit reporting, credit repair services, or other personal consumer reports    39607\n",
    "Credit reporting                                                                31593\n",
    "Credit card                                                                     18842\n",
    "Student loan                                                                    15799\n",
    "Bank account or service                                                         14887\n",
    "Consumer Loan                                                                    9473\n",
    "Credit card or prepaid card                                                      8512\n",
    "Checking or savings account                                                      5211\n",
    "Vehicle loan or lease                                                            2219\n",
    "Money transfer, virtual currency, or money service                               2134\n",
    "Payday loan                                                                      1748\n",
    "Payday loan, title loan, or personal loan                                        1736\n",
    "Money transfers                                                                  1497\n",
    "Prepaid card                                                                     1450\n",
    "Other financial service                                                           293\n",
    "Virtual currency                                                                   16\n",
    "dtype: int64\n",
    "\n",
    "The result shows that there are more complaints toward debt collection, mortgage and credit reporting. The class distribution is imbalanced. Let's check the plot."
   ]
  },
  {
   "cell_type": "code",
   "execution_count": 48,
   "metadata": {},
   "outputs": [
    {
     "data": {
      "image/png": "[encoded data removed]",
      "text/plain": [
       "<matplotlib.figure.Figure at 0x185d460c9e8>"
      ]
     },
     "metadata": {},
     "output_type": "display_data"
    }
   ],
   "source": [
    "fig = plt.figure(figsize=(8,6))\n",
    "df.groupby('Product').Consumer_complaint_narrative.count().plot.bar(ylim=0)\n",
    "plt.show()"
   ]
  },
  {
   "cell_type": "code",
   "execution_count": 49,
   "metadata": {},
   "outputs": [
    {
     "data": {
      "text/plain": [
       "(2102, 6045)"
      ]
     },
     "execution_count": 49,
     "metadata": {},
     "output_type": "execute_result"
    }
   ],
   "source": [
    "### Used The bag of word model to calculate the frequency of the words in text.\n",
    "### Applied feature extraction in sklearn library. \"http://scikit-learn.org/stable/modules/generated/sklearn.feature_extraction.text.TfidfVectorizer.html\"\n",
    "\n",
    "from sklearn.feature_extraction.text import TfidfVectorizer\n",
    "tfidf = TfidfVectorizer(sublinear_tf=True, min_df=5, norm='l2', encoding='latin-1', ngram_range=(1, 2), stop_words='english')\n",
    "\n",
    "'''\n",
    "- stop_words is set to \"english\" to remove all common pronouns (\"a\", \"the\", ...) to reduce the number of noisy features.\n",
    "- ngram_range : tuple (min_n, max_n). All values such that min_n <= n <= max_n will be used.\n",
    "- min_df is the minimum numbers of documents a word must be present in to be kept.\n",
    "\n",
    "'''\n",
    "features = tfidf.fit_transform(df.Consumer_complaint_narrative).toarray()\n",
    "labels = df.Product_id\n",
    "features.shape\n",
    "\n"
   ]
  },
  {
   "cell_type": "code",
   "execution_count": 50,
   "metadata": {},
   "outputs": [
    {
     "name": "stdout",
     "output_type": "stream",
     "text": [
      "# 'Bank account or service':\n",
      "  . Most correlated unigrams:\n",
      ". deposited\n",
      ". atm\n",
      "  . Most correlated bigrams:\n",
      ". overdraft fees\n",
      ". checking account\n",
      "# 'Consumer Loan':\n",
      "  . Most correlated unigrams:\n",
      ". car\n",
      ". vehicle\n",
      "  . Most correlated bigrams:\n",
      ". personal loan\n",
      ". ally financial\n",
      "# 'Credit card':\n",
      "  . Most correlated unigrams:\n",
      ". citi\n",
      ". card\n",
      "  . Most correlated bigrams:\n",
      ". annual fee\n",
      ". credit card\n",
      "# 'Credit reporting':\n",
      "  . Most correlated unigrams:\n",
      ". experian\n",
      ". equifax\n",
      "  . Most correlated bigrams:\n",
      ". information credit\n",
      ". credit report\n",
      "# 'Debt collection':\n",
      "  . Most correlated unigrams:\n",
      ". collection\n",
      ". debt\n",
      "  . Most correlated bigrams:\n",
      ". debt collector\n",
      ". collection agency\n",
      "# 'Money transfers':\n",
      "  . Most correlated unigrams:\n",
      ". paypal\n",
      ". western\n",
      "  . Most correlated bigrams:\n",
      ". western union\n",
      ". send money\n",
      "# 'Mortgage':\n",
      "  . Most correlated unigrams:\n",
      ". modification\n",
      ". mortgage\n",
      "  . Most correlated bigrams:\n",
      ". mortgage company\n",
      ". loan modification\n",
      "# 'Other financial service':\n",
      "  . Most correlated unigrams:\n",
      ". contracted\n",
      ". 36\n",
      "  . Most correlated bigrams:\n",
      ". pay credit\n",
      ". help pay\n",
      "# 'Payday loan':\n",
      "  . Most correlated unigrams:\n",
      ". 95\n",
      ". payday\n",
      "  . Most correlated bigrams:\n",
      ". pay day\n",
      ". payday loan\n",
      "# 'Prepaid card':\n",
      "  . Most correlated unigrams:\n",
      ". provisional\n",
      ". prepaid\n",
      "  . Most correlated bigrams:\n",
      ". use card\n",
      ". provisional credit\n",
      "# 'Student loan':\n",
      "  . Most correlated unigrams:\n",
      ". student\n",
      ". navient\n",
      "  . Most correlated bigrams:\n",
      ". student loan\n",
      ". student loans\n"
     ]
    }
   ],
   "source": [
    "product_id_df = df[['Product', 'Product_id']].drop_duplicates().sort_values('Product_id')\n",
    "product_to_id = dict(product_id_df.values)\n",
    "id_to_product = dict(product_id_df[['Product_id', 'Product']].values)\n",
    "\n",
    "### Compute chi-square test to find the terms that are the most correlated with each of the products:\n",
    "from sklearn.feature_selection import chi2\n",
    "N = 2\n",
    "for Product, Product_id in sorted(product_to_id.items()):\n",
    "    features_chi2 = chi2(features, labels == Product_id)\n",
    "    indices = np.argsort(features_chi2[0])\n",
    "    feature_names = np.array(tfidf.get_feature_names())[indices]\n",
    "    unigrams = [v for v in feature_names if len(v.split(' ')) == 1]\n",
    "    bigrams = [v for v in feature_names if len(v.split(' ')) == 2]\n",
    "    print(\"# '{}':\".format(Product))\n",
    "    print(\"  . Most correlated unigrams:\\n. {}\".format('\\n. '.join(unigrams[-N:])))\n",
    "    print(\"  . Most correlated bigrams:\\n. {}\".format('\\n. '.join(bigrams[-N:])))\n",
    "  \n",
    "  "
   ]
  },
  {
   "cell_type": "markdown",
   "metadata": {},
   "source": [
    "Model validation:\n",
    "\n",
    "After transforming the “Consumer complaint narrative” into a vector of numbers, we predict the unseen “Consumer complaint narrative” on what \"Product\" they fall."
   ]
  },
  {
   "cell_type": "code",
   "execution_count": 54,
   "metadata": {},
   "outputs": [
    {
     "name": "stderr",
     "output_type": "stream",
     "text": [
      "C:\\Users\\Amy Le - PC\\Anaconda3\\lib\\site-packages\\sklearn\\model_selection\\_split.py:605: Warning: The least populated class in y has only 4 members, which is too few. The minimum number of members in any class cannot be less than n_splits=5.\n",
      "  % (min_groups, self.n_splits)), Warning)\n",
      "C:\\Users\\Amy Le - PC\\Anaconda3\\lib\\site-packages\\sklearn\\model_selection\\_split.py:605: Warning: The least populated class in y has only 4 members, which is too few. The minimum number of members in any class cannot be less than n_splits=5.\n",
      "  % (min_groups, self.n_splits)), Warning)\n",
      "C:\\Users\\Amy Le - PC\\Anaconda3\\lib\\site-packages\\sklearn\\model_selection\\_split.py:605: Warning: The least populated class in y has only 4 members, which is too few. The minimum number of members in any class cannot be less than n_splits=5.\n",
      "  % (min_groups, self.n_splits)), Warning)\n",
      "C:\\Users\\Amy Le - PC\\Anaconda3\\lib\\site-packages\\sklearn\\model_selection\\_split.py:605: Warning: The least populated class in y has only 4 members, which is too few. The minimum number of members in any class cannot be less than n_splits=5.\n",
      "  % (min_groups, self.n_splits)), Warning)\n"
     ]
    },
    {
     "data": {
      "image/png": "[encoded data removed]",
      "text/plain": [
       "<matplotlib.figure.Figure at 0x185e1b66e48>"
      ]
     },
     "metadata": {},
     "output_type": "display_data"
    }
   ],
   "source": [
    "from sklearn.model_selection import train_test_split\n",
    "from sklearn.feature_extraction.text import CountVectorizer\n",
    "from sklearn.feature_extraction.text import TfidfTransformer\n",
    "from sklearn.naive_bayes import MultinomialNB\n",
    "from sklearn.linear_model import LogisticRegression\n",
    "from sklearn.ensemble import RandomForestClassifier\n",
    "from sklearn.svm import LinearSVC\n",
    "\n",
    "from sklearn.model_selection import cross_val_score\n",
    "\n",
    "models = [\n",
    "    RandomForestClassifier(n_estimators=200, max_depth=3, random_state=0),\n",
    "    LinearSVC(),\n",
    "    MultinomialNB(),\n",
    "    LogisticRegression(random_state=0),\n",
    "]\n",
    "CV = 5\n",
    "cv_df = pd.DataFrame(index=range(CV * len(models)))\n",
    "entries = []\n",
    "for model in models:\n",
    "    model_name = model.__class__.__name__\n",
    "    accuracies = cross_val_score(model, features, labels, scoring='accuracy', cv=CV)\n",
    "    for fold_idx, accuracy in enumerate(accuracies):\n",
    "        entries.append((model_name, fold_idx, accuracy))\n",
    "        \n",
    "cv_df = pd.DataFrame(entries, columns=['model_name', 'fold_idx', 'accuracy'])\n",
    "\n",
    "import seaborn as sns\n",
    "sns.boxplot(x='model_name', y='accuracy', data=cv_df)\n",
    "sns.stripplot(x='model_name', y='accuracy', data=cv_df, \n",
    "              size=8, jitter=True, edgecolor=\"gray\", linewidth=2)\n",
    "plt.show()"
   ]
  },
  {
   "cell_type": "code",
   "execution_count": 53,
   "metadata": {},
   "outputs": [
    {
     "data": {
      "text/plain": [
       "model_name\n",
       "LinearSVC                 0.804869\n",
       "LogisticRegression        0.774887\n",
       "MultinomialNB             0.683559\n",
       "RandomForestClassifier    0.481877\n",
       "Name: accuracy, dtype: float64"
      ]
     },
     "execution_count": 53,
     "metadata": {},
     "output_type": "execute_result"
    }
   ],
   "source": [
    "cv_df.groupby('model_name').accuracy.mean()\n",
    "###LinearSVC and Logistic Regression perform better than the other two classifiers."
   ]
  },
  {
   "cell_type": "markdown",
   "metadata": {},
   "source": [
    "Model evaluation:\n",
    "We will look at the Confusion Matrix to see the discrepancies b/t the predicted values and the actual values"
   ]
  },
  {
   "cell_type": "code",
   "execution_count": 55,
   "metadata": {},
   "outputs": [
    {
     "data": {
      "image/png": "[encoded data removed]",
      "text/plain": [
       "<matplotlib.figure.Figure at 0x185e3d73898>"
      ]
     },
     "metadata": {},
     "output_type": "display_data"
    }
   ],
   "source": [
    "model = LinearSVC()\n",
    "X_train, X_test, y_train, y_test, indices_train, indices_test = train_test_split(features, labels, df.index, test_size=0.33, random_state=0)\n",
    "model.fit(X_train, y_train)\n",
    "y_pred = model.predict(X_test)\n",
    "\n",
    "from sklearn.metrics import confusion_matrix\n",
    "conf_mat = confusion_matrix(y_test, y_pred)\n",
    "fig, ax = plt.subplots(figsize=(10,10))\n",
    "sns.heatmap(conf_mat, annot=True, fmt='d',\n",
    "            xticklabels=product_id_df.Product.values, yticklabels=product_id_df.Product.values)\n",
    "plt.ylabel('Actual')\n",
    "plt.xlabel('Predicted')\n",
    "plt.show()"
   ]
  },
  {
   "cell_type": "markdown",
   "metadata": {},
   "source": [
    "The plot shows that there are some misclassifications, but most predicted labels = actual labels\n"
   ]
  },
  {
   "cell_type": "code",
   "execution_count": 56,
   "metadata": {},
   "outputs": [
    {
     "name": "stdout",
     "output_type": "stream",
     "text": [
      "'Debt collection' predicted as 'Credit reporting' : 10 examples.\n"
     ]
    },
    {
     "data": {
      "text/html": [
       "<div>\n",
       "<style>\n",
       "    .dataframe thead tr:only-child th {\n",
       "        text-align: right;\n",
       "    }\n",
       "\n",
       "    .dataframe thead th {\n",
       "        text-align: left;\n",
       "    }\n",
       "\n",
       "    .dataframe tbody tr th {\n",
       "        vertical-align: top;\n",
       "    }\n",
       "</style>\n",
       "<table border=\"1\" class=\"dataframe\">\n",
       "  <thead>\n",
       "    <tr style=\"text-align: right;\">\n",
       "      <th></th>\n",
       "      <th>Product</th>\n",
       "      <th>Consumer_complaint_narrative</th>\n",
       "    </tr>\n",
       "  </thead>\n",
       "  <tbody>\n",
       "    <tr>\n",
       "      <th>6987</th>\n",
       "      <td>Debt collection</td>\n",
       "      <td>Also collections refuses to stop reporting to ...</td>\n",
       "    </tr>\n",
       "    <tr>\n",
       "      <th>255</th>\n",
       "      <td>Debt collection</td>\n",
       "      <td>I have asked real time solutions several times...</td>\n",
       "    </tr>\n",
       "    <tr>\n",
       "      <th>2238</th>\n",
       "      <td>Debt collection</td>\n",
       "      <td>Original Institution XXXX XXXX which has been ...</td>\n",
       "    </tr>\n",
       "    <tr>\n",
       "      <th>6948</th>\n",
       "      <td>Debt collection</td>\n",
       "      <td>This company, AFNI , Inc., has added a collect...</td>\n",
       "    </tr>\n",
       "    <tr>\n",
       "      <th>9321</th>\n",
       "      <td>Debt collection</td>\n",
       "      <td>I have bills on my credit report I have nothin...</td>\n",
       "    </tr>\n",
       "    <tr>\n",
       "      <th>4431</th>\n",
       "      <td>Debt collection</td>\n",
       "      <td>someone tried getting credit information and i...</td>\n",
       "    </tr>\n",
       "    <tr>\n",
       "      <th>1257</th>\n",
       "      <td>Debt collection</td>\n",
       "      <td>currently reporting XXXX invalid debts based o...</td>\n",
       "    </tr>\n",
       "    <tr>\n",
       "      <th>16</th>\n",
       "      <td>Debt collection</td>\n",
       "      <td>This complaint is in regards to Square Two Fin...</td>\n",
       "    </tr>\n",
       "    <tr>\n",
       "      <th>4023</th>\n",
       "      <td>Debt collection</td>\n",
       "      <td>I have contacted Portfolio several times to as...</td>\n",
       "    </tr>\n",
       "    <tr>\n",
       "      <th>7487</th>\n",
       "      <td>Debt collection</td>\n",
       "      <td>called with voicemail saying they would contac...</td>\n",
       "    </tr>\n",
       "  </tbody>\n",
       "</table>\n",
       "</div>"
      ],
      "text/plain": [
       "              Product                       Consumer_complaint_narrative\n",
       "6987  Debt collection  Also collections refuses to stop reporting to ...\n",
       "255   Debt collection  I have asked real time solutions several times...\n",
       "2238  Debt collection  Original Institution XXXX XXXX which has been ...\n",
       "6948  Debt collection  This company, AFNI , Inc., has added a collect...\n",
       "9321  Debt collection  I have bills on my credit report I have nothin...\n",
       "4431  Debt collection  someone tried getting credit information and i...\n",
       "1257  Debt collection  currently reporting XXXX invalid debts based o...\n",
       "16    Debt collection  This complaint is in regards to Square Two Fin...\n",
       "4023  Debt collection  I have contacted Portfolio several times to as...\n",
       "7487  Debt collection  called with voicemail saying they would contac..."
      ]
     },
     "metadata": {},
     "output_type": "display_data"
    },
    {
     "name": "stdout",
     "output_type": "stream",
     "text": [
      "\n",
      "'Credit reporting' predicted as 'Debt collection' : 17 examples.\n"
     ]
    },
    {
     "data": {
      "text/html": [
       "<div>\n",
       "<style>\n",
       "    .dataframe thead tr:only-child th {\n",
       "        text-align: right;\n",
       "    }\n",
       "\n",
       "    .dataframe thead th {\n",
       "        text-align: left;\n",
       "    }\n",
       "\n",
       "    .dataframe tbody tr th {\n",
       "        vertical-align: top;\n",
       "    }\n",
       "</style>\n",
       "<table border=\"1\" class=\"dataframe\">\n",
       "  <thead>\n",
       "    <tr style=\"text-align: right;\">\n",
       "      <th></th>\n",
       "      <th>Product</th>\n",
       "      <th>Consumer_complaint_narrative</th>\n",
       "    </tr>\n",
       "  </thead>\n",
       "  <tbody>\n",
       "    <tr>\n",
       "      <th>2299</th>\n",
       "      <td>Credit reporting</td>\n",
       "      <td>I have disputed with the credit bureaus a coll...</td>\n",
       "    </tr>\n",
       "    <tr>\n",
       "      <th>1864</th>\n",
       "      <td>Credit reporting</td>\n",
       "      <td>On my Experian account there is a company repo...</td>\n",
       "    </tr>\n",
       "    <tr>\n",
       "      <th>889</th>\n",
       "      <td>Credit reporting</td>\n",
       "      <td>Credit bureaus are reporting my former address...</td>\n",
       "    </tr>\n",
       "    <tr>\n",
       "      <th>9546</th>\n",
       "      <td>Credit reporting</td>\n",
       "      <td>According to the Fair Credit Reporting section...</td>\n",
       "    </tr>\n",
       "    <tr>\n",
       "      <th>2731</th>\n",
       "      <td>Credit reporting</td>\n",
       "      <td>Collection company has stated they have asked ...</td>\n",
       "    </tr>\n",
       "    <tr>\n",
       "      <th>8550</th>\n",
       "      <td>Credit reporting</td>\n",
       "      <td>In 2007, I was a victim of identity theft. As ...</td>\n",
       "    </tr>\n",
       "    <tr>\n",
       "      <th>358</th>\n",
       "      <td>Credit reporting</td>\n",
       "      <td>I mailed out a letter and followed the instruc...</td>\n",
       "    </tr>\n",
       "    <tr>\n",
       "      <th>525</th>\n",
       "      <td>Credit reporting</td>\n",
       "      <td>I sent the same letter to all XXXX credit bure...</td>\n",
       "    </tr>\n",
       "    <tr>\n",
       "      <th>8986</th>\n",
       "      <td>Credit reporting</td>\n",
       "      <td>I was trying to print my credit report and the...</td>\n",
       "    </tr>\n",
       "    <tr>\n",
       "      <th>2793</th>\n",
       "      <td>Credit reporting</td>\n",
       "      <td>I sent Capital One a disputed and validation l...</td>\n",
       "    </tr>\n",
       "    <tr>\n",
       "      <th>2151</th>\n",
       "      <td>Credit reporting</td>\n",
       "      <td>Over five years ago a physician spent 5 minute...</td>\n",
       "    </tr>\n",
       "    <tr>\n",
       "      <th>8760</th>\n",
       "      <td>Credit reporting</td>\n",
       "      <td>XXXX XXXX, XXXX XXXX XXXX. XXXX XXXX, XXXX XXX...</td>\n",
       "    </tr>\n",
       "    <tr>\n",
       "      <th>7246</th>\n",
       "      <td>Credit reporting</td>\n",
       "      <td>In XX/XX/XXXX I moved to an area XXXX does not...</td>\n",
       "    </tr>\n",
       "    <tr>\n",
       "      <th>1666</th>\n",
       "      <td>Credit reporting</td>\n",
       "      <td>I have been reviewing my credit files and noti...</td>\n",
       "    </tr>\n",
       "    <tr>\n",
       "      <th>4441</th>\n",
       "      <td>Credit reporting</td>\n",
       "      <td>I settled with XXXX on several accounts last y...</td>\n",
       "    </tr>\n",
       "    <tr>\n",
       "      <th>760</th>\n",
       "      <td>Credit reporting</td>\n",
       "      <td>Hello, I have been a victim of Identity theft ...</td>\n",
       "    </tr>\n",
       "    <tr>\n",
       "      <th>4737</th>\n",
       "      <td>Credit reporting</td>\n",
       "      <td>XXXX account # XXXX I have insurance, I paid m...</td>\n",
       "    </tr>\n",
       "  </tbody>\n",
       "</table>\n",
       "</div>"
      ],
      "text/plain": [
       "               Product                       Consumer_complaint_narrative\n",
       "2299  Credit reporting  I have disputed with the credit bureaus a coll...\n",
       "1864  Credit reporting  On my Experian account there is a company repo...\n",
       "889   Credit reporting  Credit bureaus are reporting my former address...\n",
       "9546  Credit reporting  According to the Fair Credit Reporting section...\n",
       "2731  Credit reporting  Collection company has stated they have asked ...\n",
       "8550  Credit reporting  In 2007, I was a victim of identity theft. As ...\n",
       "358   Credit reporting  I mailed out a letter and followed the instruc...\n",
       "525   Credit reporting  I sent the same letter to all XXXX credit bure...\n",
       "8986  Credit reporting  I was trying to print my credit report and the...\n",
       "2793  Credit reporting  I sent Capital One a disputed and validation l...\n",
       "2151  Credit reporting  Over five years ago a physician spent 5 minute...\n",
       "8760  Credit reporting  XXXX XXXX, XXXX XXXX XXXX. XXXX XXXX, XXXX XXX...\n",
       "7246  Credit reporting  In XX/XX/XXXX I moved to an area XXXX does not...\n",
       "1666  Credit reporting  I have been reviewing my credit files and noti...\n",
       "4441  Credit reporting  I settled with XXXX on several accounts last y...\n",
       "760   Credit reporting  Hello, I have been a victim of Identity theft ...\n",
       "4737  Credit reporting  XXXX account # XXXX I have insurance, I paid m..."
      ]
     },
     "metadata": {},
     "output_type": "display_data"
    },
    {
     "name": "stdout",
     "output_type": "stream",
     "text": [
      "\n"
     ]
    }
   ],
   "source": [
    "from IPython.display import display\n",
    "for predicted in product_id_df.Product_id:\n",
    "    for actual in product_id_df.Product_id:\n",
    "        if predicted != actual and conf_mat[actual, predicted] >= 10:\n",
    "            print(\"'{}' predicted as '{}' : {} examples.\".format(id_to_product[actual], id_to_product[predicted], conf_mat[actual, predicted]))\n",
    "            display(df.loc[indices_test[(y_test == actual) & (y_pred == predicted)]][['Product', 'Consumer_complaint_narrative']])\n",
    "            print('')"
   ]
  },
  {
   "cell_type": "code",
   "execution_count": 57,
   "metadata": {},
   "outputs": [
    {
     "name": "stdout",
     "output_type": "stream",
     "text": [
      "                         precision    recall  f1-score   support\n",
      "\n",
      "       Credit reporting       0.78      0.81      0.80       134\n",
      "          Consumer Loan       0.67      0.46      0.54        35\n",
      "        Debt collection       0.77      0.84      0.81       158\n",
      "               Mortgage       0.86      0.97      0.91       141\n",
      "            Credit card       0.79      0.77      0.78        86\n",
      "Other financial service       0.00      0.00      0.00         1\n",
      "Bank account or service       0.74      0.75      0.74        68\n",
      "           Student loan       0.93      0.80      0.86        46\n",
      "        Money transfers       0.00      0.00      0.00         9\n",
      "            Payday loan       1.00      0.40      0.57        10\n",
      "           Prepaid card       1.00      0.17      0.29         6\n",
      "\n",
      "            avg / total       0.79      0.80      0.79       694\n",
      "\n"
     ]
    },
    {
     "name": "stderr",
     "output_type": "stream",
     "text": [
      "C:\\Users\\Amy Le - PC\\Anaconda3\\lib\\site-packages\\sklearn\\metrics\\classification.py:1135: UndefinedMetricWarning: Precision and F-score are ill-defined and being set to 0.0 in labels with no predicted samples.\n",
      "  'precision', 'predicted', average, warn_for)\n"
     ]
    }
   ],
   "source": [
    "###Some of the misclassified complaints are complaints that touch on more than one subjects (for example, complaints involving both credit card and credit report). \n",
    "from sklearn import metrics\n",
    "print(metrics.classification_report(y_test, y_pred, target_names=df['Product'].unique()))"
   ]
  },
  {
   "cell_type": "code",
   "execution_count": null,
   "metadata": {
    "collapsed": true
   },
   "outputs": [],
   "source": []
  }
 ],
 "metadata": {
  "kernelspec": {
   "display_name": "Python 3",
   "language": "python",
   "name": "python3"
  },
  "language_info": {
   "codemirror_mode": {
    "name": "ipython",
    "version": 3
   },
   "file_extension": ".py",
   "mimetype": "text/x-python",
   "name": "python",
   "nbconvert_exporter": "python",
   "pygments_lexer": "ipython3",
   "version": "3.6.3"
  }
 },
 "nbformat": 4,
 "nbformat_minor": 2
}
